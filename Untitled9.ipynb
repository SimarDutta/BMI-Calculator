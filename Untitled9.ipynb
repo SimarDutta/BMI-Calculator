{
  "nbformat": 4,
  "nbformat_minor": 0,
  "metadata": {
    "colab": {
      "provenance": []
    },
    "kernelspec": {
      "name": "python3",
      "display_name": "Python 3"
    },
    "language_info": {
      "name": "python"
    }
  },
  "cells": [
    {
      "cell_type": "code",
      "execution_count": null,
      "metadata": {
        "id": "4Cub90FJtrte"
      },
      "outputs": [],
      "source": []
    },
    {
      "cell_type": "code",
      "source": [
        "def calculate_bmi(weight, height):\n",
        "    height = height / 100  # Convert cm to meters\n",
        "    bmi = weight / (height ** 2)\n",
        "    return bmi\n",
        "\n",
        "def classify_bmi(bmi):\n",
        "    if bmi < 18.5:\n",
        "        return \"Underweight\"\n",
        "    elif 18.5 <= bmi < 24.9:\n",
        "        return \"Normal weight\"\n",
        "    elif 25 <= bmi < 29.9:\n",
        "        return \"Overweight\"\n",
        "    else:\n",
        "        return \"Obese\"\n",
        "\n",
        "def main():\n",
        "    try:\n",
        "        weight = float(input(\"Enter your weight in kg: \"))\n",
        "        height = float(input(\"Enter your height in cm: \"))\n",
        "\n",
        "        if weight <= 0 or height <= 0:\n",
        "            print(\"Weight and height must be positive values.\")\n",
        "            return\n",
        "\n",
        "        bmi = calculate_bmi(weight, height)\n",
        "        category = classify_bmi(bmi)\n",
        "\n",
        "        print(f\"Your BMI is: {bmi:.2f}\")\n",
        "        print(f\"Category: {category}\")\n",
        "    except ValueError:\n",
        "        print(\"Invalid input. Please enter numerical values for weight and height.\")\n",
        "\n",
        "if __name__ == \"__main__\":\n",
        "    main()"
      ],
      "metadata": {
        "colab": {
          "base_uri": "https://localhost:8080/"
        },
        "id": "0GWl7PSktt94",
        "outputId": "82ef3544-3af6-4659-834d-70d734ca6aa1"
      },
      "execution_count": 1,
      "outputs": [
        {
          "output_type": "stream",
          "name": "stdout",
          "text": [
            "Enter your weight in kg: 85\n",
            "Enter your height in cm: 186\n",
            "Your BMI is: 24.57\n",
            "Category: Normal weight\n"
          ]
        }
      ]
    }
  ]
}